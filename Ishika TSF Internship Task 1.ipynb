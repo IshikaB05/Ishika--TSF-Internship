{
 "cells": [
  {
   "cell_type": "markdown",
   "id": "3ce204c6-3d15-488b-af9c-fdc585599fa9",
   "metadata": {},
   "source": [
    "# Author : Ishika Banerjee"
   ]
  },
  {
   "cell_type": "markdown",
   "id": "a0c86cc3-515e-4a3a-99d6-22f6d0bb8eeb",
   "metadata": {},
   "source": [
    "## GRIP @ The Sparks Foundation"
   ]
  },
  {
   "cell_type": "markdown",
   "id": "d1dfd98f",
   "metadata": {},
   "source": [
    "## Data Science and Business Analytics Intern"
   ]
  },
  {
   "cell_type": "markdown",
   "id": "af296111-d2a9-4b92-a7c9-8ec7b720e041",
   "metadata": {},
   "source": [
    "### Batch : September, 2023"
   ]
  },
  {
   "cell_type": "markdown",
   "id": "5093e0c2-6660-4e61-af3f-56f9eeb0f45e",
   "metadata": {},
   "source": [
    "#### Task 1 : Prediction using Supervised Machine Learning"
   ]
  },
  {
   "cell_type": "markdown",
   "id": "02545a3d-6fe4-4ecd-8645-69abb8148f6a",
   "metadata": {},
   "source": [
    "Predicting the percentage of marks that a student is expected to score based upon the number of hours studied using linear regression"
   ]
  },
  {
   "cell_type": "markdown",
   "id": "718103f7-566a-44cf-a649-e837ca10e273",
   "metadata": {},
   "source": [
    "Step 1 : Importing the required python libraries"
   ]
  },
  {
   "cell_type": "code",
   "execution_count": 2,
   "id": "62ef7399-87de-437f-858f-16be06633e0f",
   "metadata": {},
   "outputs": [],
   "source": [
    "# Importing all libraries required in this notebook\n",
    "import pandas as pd\n",
    "import numpy as np  \n",
    "import matplotlib.pyplot as plt "
   ]
  },
  {
   "cell_type": "markdown",
   "id": "8e515fc3-61a2-475d-983e-4f853df36dbf",
   "metadata": {},
   "source": [
    "Step 2: Importing the data from given external link"
   ]
  },
  {
   "cell_type": "code",
   "execution_count": 3,
   "id": "d6c02eb9-23e0-4e1d-adb4-beb991e7542c",
   "metadata": {},
   "outputs": [
    {
     "name": "stdout",
     "output_type": "stream",
     "text": [
      "    Hours  Scores\n",
      "0     2.5      21\n",
      "1     5.1      47\n",
      "2     3.2      27\n",
      "3     8.5      75\n",
      "4     3.5      30\n",
      "5     1.5      20\n",
      "6     9.2      88\n",
      "7     5.5      60\n",
      "8     8.3      81\n",
      "9     2.7      25\n",
      "10    7.7      85\n",
      "11    5.9      62\n",
      "12    4.5      41\n",
      "13    3.3      42\n",
      "14    1.1      17\n",
      "15    8.9      95\n",
      "16    2.5      30\n",
      "17    1.9      24\n",
      "18    6.1      67\n",
      "19    7.4      69\n",
      "20    2.7      30\n",
      "21    4.8      54\n",
      "22    3.8      35\n",
      "23    6.9      76\n",
      "24    7.8      86\n"
     ]
    }
   ],
   "source": [
    "# Reading data from link\n",
    "url = \"http://bit.ly/w-data\"\n",
    "students_df= pd.read_csv(url)\n",
    "print(students_df)"
   ]
  },
  {
   "cell_type": "markdown",
   "id": "b8ca0f1a",
   "metadata": {},
   "source": [
    "##### Data Exploration"
   ]
  },
  {
   "cell_type": "markdown",
   "id": "19a3e0eb-6880-450a-8cd9-6a4cdcd94a1f",
   "metadata": {},
   "source": [
    "Step 3: Explonatory Data Analysis\n"
   ]
  },
  {
   "cell_type": "code",
   "execution_count": 4,
   "id": "ddaac7e3-a2ed-495f-af99-5e52c3df0e06",
   "metadata": {},
   "outputs": [
    {
     "data": {
      "text/html": [
       "<div>\n",
       "<style scoped>\n",
       "    .dataframe tbody tr th:only-of-type {\n",
       "        vertical-align: middle;\n",
       "    }\n",
       "\n",
       "    .dataframe tbody tr th {\n",
       "        vertical-align: top;\n",
       "    }\n",
       "\n",
       "    .dataframe thead th {\n",
       "        text-align: right;\n",
       "    }\n",
       "</style>\n",
       "<table border=\"1\" class=\"dataframe\">\n",
       "  <thead>\n",
       "    <tr style=\"text-align: right;\">\n",
       "      <th></th>\n",
       "      <th>Hours</th>\n",
       "      <th>Scores</th>\n",
       "    </tr>\n",
       "  </thead>\n",
       "  <tbody>\n",
       "    <tr>\n",
       "      <th>count</th>\n",
       "      <td>25.000000</td>\n",
       "      <td>25.000000</td>\n",
       "    </tr>\n",
       "    <tr>\n",
       "      <th>mean</th>\n",
       "      <td>5.012000</td>\n",
       "      <td>51.480000</td>\n",
       "    </tr>\n",
       "    <tr>\n",
       "      <th>std</th>\n",
       "      <td>2.525094</td>\n",
       "      <td>25.286887</td>\n",
       "    </tr>\n",
       "    <tr>\n",
       "      <th>min</th>\n",
       "      <td>1.100000</td>\n",
       "      <td>17.000000</td>\n",
       "    </tr>\n",
       "    <tr>\n",
       "      <th>25%</th>\n",
       "      <td>2.700000</td>\n",
       "      <td>30.000000</td>\n",
       "    </tr>\n",
       "    <tr>\n",
       "      <th>50%</th>\n",
       "      <td>4.800000</td>\n",
       "      <td>47.000000</td>\n",
       "    </tr>\n",
       "    <tr>\n",
       "      <th>75%</th>\n",
       "      <td>7.400000</td>\n",
       "      <td>75.000000</td>\n",
       "    </tr>\n",
       "    <tr>\n",
       "      <th>max</th>\n",
       "      <td>9.200000</td>\n",
       "      <td>95.000000</td>\n",
       "    </tr>\n",
       "  </tbody>\n",
       "</table>\n",
       "</div>"
      ],
      "text/plain": [
       "           Hours     Scores\n",
       "count  25.000000  25.000000\n",
       "mean    5.012000  51.480000\n",
       "std     2.525094  25.286887\n",
       "min     1.100000  17.000000\n",
       "25%     2.700000  30.000000\n",
       "50%     4.800000  47.000000\n",
       "75%     7.400000  75.000000\n",
       "max     9.200000  95.000000"
      ]
     },
     "execution_count": 4,
     "metadata": {},
     "output_type": "execute_result"
    }
   ],
   "source": [
    "students_df.describe()"
   ]
  },
  {
   "cell_type": "code",
   "execution_count": 5,
   "id": "db9bb296-3ce9-4d8c-b226-8cf8186209ba",
   "metadata": {},
   "outputs": [
    {
     "data": {
      "text/plain": [
       "(25, 2)"
      ]
     },
     "execution_count": 5,
     "metadata": {},
     "output_type": "execute_result"
    }
   ],
   "source": [
    "students_df.shape"
   ]
  },
  {
   "cell_type": "code",
   "execution_count": 6,
   "id": "889e622b-e281-4164-8c51-25f394315f65",
   "metadata": {},
   "outputs": [
    {
     "name": "stdout",
     "output_type": "stream",
     "text": [
      "<class 'pandas.core.frame.DataFrame'>\n",
      "RangeIndex: 25 entries, 0 to 24\n",
      "Data columns (total 2 columns):\n",
      " #   Column  Non-Null Count  Dtype  \n",
      "---  ------  --------------  -----  \n",
      " 0   Hours   25 non-null     float64\n",
      " 1   Scores  25 non-null     int64  \n",
      "dtypes: float64(1), int64(1)\n",
      "memory usage: 532.0 bytes\n"
     ]
    }
   ],
   "source": [
    "students_df.info()"
   ]
  },
  {
   "cell_type": "code",
   "execution_count": 7,
   "id": "34cffd3a-a7f7-44e5-950e-fdaa701cc4e7",
   "metadata": {},
   "outputs": [
    {
     "name": "stdout",
     "output_type": "stream",
     "text": [
      "Number of unique values of study hours is: 23\n"
     ]
    }
   ],
   "source": [
    "distinct_hours=students_df.Hours.nunique()\n",
    "print(\"Number of unique values of study hours is:\",distinct_hours)"
   ]
  },
  {
   "cell_type": "code",
   "execution_count": 8,
   "id": "9577695d",
   "metadata": {},
   "outputs": [
    {
     "name": "stdout",
     "output_type": "stream",
     "text": [
      "Number of unique values of spercentage of marks is: 23\n"
     ]
    }
   ],
   "source": [
    "distinct_scores=students_df.Scores.nunique()\n",
    "print(\"Number of unique values of spercentage of marks is:\",distinct_scores)"
   ]
  },
  {
   "cell_type": "markdown",
   "id": "69ab3796",
   "metadata": {},
   "source": [
    "##### Checking for missing values"
   ]
  },
  {
   "cell_type": "code",
   "execution_count": 9,
   "id": "c467f6b4",
   "metadata": {},
   "outputs": [
    {
     "data": {
      "text/plain": [
       "Hours     0\n",
       "Scores    0\n",
       "dtype: int64"
      ]
     },
     "execution_count": 9,
     "metadata": {},
     "output_type": "execute_result"
    }
   ],
   "source": [
    "students_df.isnull().sum()"
   ]
  },
  {
   "cell_type": "markdown",
   "id": "adb60abe",
   "metadata": {},
   "source": [
    "##### Data Visualization"
   ]
  },
  {
   "cell_type": "code",
   "execution_count": 10,
   "id": "b28ec730",
   "metadata": {},
   "outputs": [
    {
     "data": {
      "image/png": "[encoded data removed]",
      "text/plain": [
       "<Figure size 640x480 with 1 Axes>"
      ]
     },
     "metadata": {},
     "output_type": "display_data"
    }
   ],
   "source": [
    "# Plotting the distribution of scores\n",
    "students_df.plot(x='Hours', y='Scores',style='o') \n",
    "plt.title('Hours vs Percentage')  \n",
    "plt.xlabel('Study Hours Per Day')  \n",
    "plt.ylabel('Percentage of Scores')  \n",
    "plt.grid(True)\n",
    "plt.show()"
   ]
  },
  {
   "cell_type": "code",
   "execution_count": 12,
   "id": "3118280d",
   "metadata": {},
   "outputs": [
    {
     "data": {
      "text/plain": [
       "<Axes: xlabel='Hours'>"
      ]
     },
     "execution_count": 12,
     "metadata": {},
     "output_type": "execute_result"
    },
    {
     "data": {
      "image/png": "[encoded data removed]",
      "text/plain": [
       "<Figure size 640x480 with 1 Axes>"
      ]
     },
     "metadata": {},
     "output_type": "display_data"
    }
   ],
   "source": [
    "students_df.sort_values(['Hours'],axis=0,ascending=[True],inplace=True)\n",
    "students_df.plot.bar(x='Hours',y='Scores')"
   ]
  },
  {
   "cell_type": "markdown",
   "id": "77b022d2",
   "metadata": {},
   "source": [
    "##### Checking for outliers using boxplot"
   ]
  },
  {
   "cell_type": "code",
   "execution_count": 13,
   "id": "790f5cf3",
   "metadata": {},
   "outputs": [
    {
     "data": {
      "text/plain": [
       "<Axes: >"
      ]
     },
     "execution_count": 13,
     "metadata": {},
     "output_type": "execute_result"
    },
    {
     "data": {
      "image/png": "[encoded data removed]",
      "text/plain": [
       "<Figure size 1000x800 with 1 Axes>"
      ]
     },
     "metadata": {},
     "output_type": "display_data"
    }
   ],
   "source": [
    "students_df.boxplot(figsize=(10,8))"
   ]
  },
  {
   "cell_type": "markdown",
   "id": "caa67ff3",
   "metadata": {},
   "source": [
    "Step 4: Data analysis and Model fitting"
   ]
  },
  {
   "cell_type": "markdown",
   "id": "abc23a28",
   "metadata": {},
   "source": [
    "##### Train and Test Split"
   ]
  },
  {
   "cell_type": "code",
   "execution_count": 15,
   "id": "8a8a3302",
   "metadata": {},
   "outputs": [],
   "source": [
    "x = students_df.iloc[:, :-1].values  \n",
    "y = students_df.iloc[:, 1].values "
   ]
  },
  {
   "cell_type": "code",
   "execution_count": 16,
   "id": "496fb856",
   "metadata": {},
   "outputs": [],
   "source": [
    "from sklearn.model_selection import train_test_split  \n",
    "x_train, x_test, y_train, y_test = train_test_split(x, y, \n",
    "                            test_size=0.3, random_state=0) \n"
   ]
  },
  {
   "cell_type": "markdown",
   "id": "5732a163",
   "metadata": {},
   "source": [
    "##### Training Alogorithm"
   ]
  },
  {
   "cell_type": "code",
   "execution_count": 17,
   "id": "d2fe01ac",
   "metadata": {},
   "outputs": [
    {
     "data": {
      "text/html": [
       "<style>#sk-container-id-1 {color: black;}#sk-container-id-1 pre{padding: 0;}#sk-container-id-1 div.sk-toggleable {background-color: white;}#sk-container-id-1 label.sk-toggleable__label {cursor: pointer;display: block;width: 100%;margin-bottom: 0;padding: 0.3em;box-sizing: border-box;text-align: center;}#sk-container-id-1 label.sk-toggleable__label-arrow:before {content: \"▸\";float: left;margin-right: 0.25em;color: #696969;}#sk-container-id-1 label.sk-toggleable__label-arrow:hover:before {color: black;}#sk-container-id-1 div.sk-estimator:hover label.sk-toggleable__label-arrow:before {color: black;}#sk-container-id-1 div.sk-toggleable__content {max-height: 0;max-width: 0;overflow: hidden;text-align: left;background-color: #f0f8ff;}#sk-container-id-1 div.sk-toggleable__content pre {margin: 0.2em;color: black;border-radius: 0.25em;background-color: #f0f8ff;}#sk-container-id-1 input.sk-toggleable__control:checked~div.sk-toggleable__content {max-height: 200px;max-width: 100%;overflow: auto;}#sk-container-id-1 input.sk-toggleable__control:checked~label.sk-toggleable__label-arrow:before {content: \"▾\";}#sk-container-id-1 div.sk-estimator input.sk-toggleable__control:checked~label.sk-toggleable__label {background-color: #d4ebff;}#sk-container-id-1 div.sk-label input.sk-toggleable__control:checked~label.sk-toggleable__label {background-color: #d4ebff;}#sk-container-id-1 input.sk-hidden--visually {border: 0;clip: rect(1px 1px 1px 1px);clip: rect(1px, 1px, 1px, 1px);height: 1px;margin: -1px;overflow: hidden;padding: 0;position: absolute;width: 1px;}#sk-container-id-1 div.sk-estimator {font-family: monospace;background-color: #f0f8ff;border: 1px dotted black;border-radius: 0.25em;box-sizing: border-box;margin-bottom: 0.5em;}#sk-container-id-1 div.sk-estimator:hover {background-color: #d4ebff;}#sk-container-id-1 div.sk-parallel-item::after {content: \"\";width: 100%;border-bottom: 1px solid gray;flex-grow: 1;}#sk-container-id-1 div.sk-label:hover label.sk-toggleable__label {background-color: #d4ebff;}#sk-container-id-1 div.sk-serial::before {content: \"\";position: absolute;border-left: 1px solid gray;box-sizing: border-box;top: 0;bottom: 0;left: 50%;z-index: 0;}#sk-container-id-1 div.sk-serial {display: flex;flex-direction: column;align-items: center;background-color: white;padding-right: 0.2em;padding-left: 0.2em;position: relative;}#sk-container-id-1 div.sk-item {position: relative;z-index: 1;}#sk-container-id-1 div.sk-parallel {display: flex;align-items: stretch;justify-content: center;background-color: white;position: relative;}#sk-container-id-1 div.sk-item::before, #sk-container-id-1 div.sk-parallel-item::before {content: \"\";position: absolute;border-left: 1px solid gray;box-sizing: border-box;top: 0;bottom: 0;left: 50%;z-index: -1;}#sk-container-id-1 div.sk-parallel-item {display: flex;flex-direction: column;z-index: 1;position: relative;background-color: white;}#sk-container-id-1 div.sk-parallel-item:first-child::after {align-self: flex-end;width: 50%;}#sk-container-id-1 div.sk-parallel-item:last-child::after {align-self: flex-start;width: 50%;}#sk-container-id-1 div.sk-parallel-item:only-child::after {width: 0;}#sk-container-id-1 div.sk-dashed-wrapped {border: 1px dashed gray;margin: 0 0.4em 0.5em 0.4em;box-sizing: border-box;padding-bottom: 0.4em;background-color: white;}#sk-container-id-1 div.sk-label label {font-family: monospace;font-weight: bold;display: inline-block;line-height: 1.2em;}#sk-container-id-1 div.sk-label-container {text-align: center;}#sk-container-id-1 div.sk-container {/* jupyter's `normalize.less` sets `[hidden] { display: none; }` but bootstrap.min.css set `[hidden] { display: none !important; }` so we also need the `!important` here to be able to override the default hidden behavior on the sphinx rendered scikit-learn.org. See: https://github.com/scikit-learn/scikit-learn/issues/21755 */display: inline-block !important;position: relative;}#sk-container-id-1 div.sk-text-repr-fallback {display: none;}</style><div id=\"sk-container-id-1\" class=\"sk-top-container\"><div class=\"sk-text-repr-fallback\"><pre>LinearRegression()</pre><b>In a Jupyter environment, please rerun this cell to show the HTML representation or trust the notebook. <br />On GitHub, the HTML representation is unable to render, please try loading this page with nbviewer.org.</b></div><div class=\"sk-container\" hidden><div class=\"sk-item\"><div class=\"sk-estimator sk-toggleable\"><input class=\"sk-toggleable__control sk-hidden--visually\" id=\"sk-estimator-id-1\" type=\"checkbox\" checked><label for=\"sk-estimator-id-1\" class=\"sk-toggleable__label sk-toggleable__label-arrow\">LinearRegression</label><div class=\"sk-toggleable__content\"><pre>LinearRegression()</pre></div></div></div></div></div>"
      ],
      "text/plain": [
       "LinearRegression()"
      ]
     },
     "execution_count": 17,
     "metadata": {},
     "output_type": "execute_result"
    }
   ],
   "source": [
    "from sklearn.linear_model import LinearRegression  \n",
    "model = LinearRegression()  \n",
    "model.fit(x_train, y_train) "
   ]
  },
  {
   "cell_type": "markdown",
   "id": "8fb78915",
   "metadata": {},
   "source": [
    "##### Plotting the Regression Line"
   ]
  },
  {
   "cell_type": "code",
   "execution_count": 18,
   "id": "9ae0a346",
   "metadata": {},
   "outputs": [
    {
     "data": {
      "image/png": "[encoded data removed]",
      "text/plain": [
       "<Figure size 640x480 with 1 Axes>"
      ]
     },
     "metadata": {},
     "output_type": "display_data"
    }
   ],
   "source": [
    "regression_line = model.coef_*x+model.intercept_\n",
    "\n",
    "# Scatter plot and regression line\n",
    "plt.plot(x, y, 'o')\n",
    "plt.plot(x, regression_line);\n",
    "plt.show()"
   ]
  },
  {
   "cell_type": "markdown",
   "id": "c0da7a51",
   "metadata": {},
   "source": [
    "##### Model testing and Prediction of Scores"
   ]
  },
  {
   "cell_type": "code",
   "execution_count": 19,
   "id": "978d594f",
   "metadata": {},
   "outputs": [
    {
     "name": "stdout",
     "output_type": "stream",
     "text": [
      "[[2.7]\n",
      " [1.9]\n",
      " [7.7]\n",
      " [6.1]\n",
      " [4.5]\n",
      " [8.5]\n",
      " [6.9]\n",
      " [9.2]]\n"
     ]
    }
   ],
   "source": [
    "# Testing data - In Hours\n",
    "print(x_test)"
   ]
  },
  {
   "cell_type": "code",
   "execution_count": 20,
   "id": "76d77c92",
   "metadata": {},
   "outputs": [
    {
     "name": "stdout",
     "output_type": "stream",
     "text": [
      "[28.22071832 20.16434745 78.57303627 62.46029453 46.34755278 86.62940714\n",
      " 70.5166654  93.67873166]\n"
     ]
    }
   ],
   "source": [
    "# Predicting the scores\n",
    "y_predicted = model.predict(x_test)\n",
    "print(y_predicted)"
   ]
  },
  {
   "cell_type": "code",
   "execution_count": 21,
   "id": "37adec43",
   "metadata": {},
   "outputs": [
    {
     "name": "stdout",
     "output_type": "stream",
     "text": [
      "The actual scores vs the predicted scores:\n",
      "    Actual  Predicted\n",
      "0      30  28.220718\n",
      "1      24  20.164347\n",
      "2      85  78.573036\n",
      "3      67  62.460295\n",
      "4      41  46.347553\n",
      "5      75  86.629407\n",
      "6      76  70.516665\n",
      "7      88  93.678732\n"
     ]
    }
   ],
   "source": [
    "# Comparing thr Actual vs Predicted Scores\n",
    "df = pd.DataFrame({'Actual': y_test, 'Predicted': y_predicted})  \n",
    "print(\"The actual scores vs the predicted scores:\\n\",df)"
   ]
  },
  {
   "cell_type": "markdown",
   "id": "48549eb8",
   "metadata": {},
   "source": [
    "##### Checking model accuracy"
   ]
  },
  {
   "cell_type": "code",
   "execution_count": 22,
   "id": "830ab78b",
   "metadata": {},
   "outputs": [
    {
     "name": "stdout",
     "output_type": "stream",
     "text": [
      "The model accuracy is: 0.9563763000236766\n"
     ]
    }
   ],
   "source": [
    "model_accuracy_score= model.score(x_train,y_train)\n",
    "print(\"The model accuracy is:\",model_accuracy_score)"
   ]
  },
  {
   "cell_type": "markdown",
   "id": "f357b848",
   "metadata": {},
   "source": [
    "##### Predicting score of a student who studies for 9.25 hours/day"
   ]
  },
  {
   "cell_type": "code",
   "execution_count": 23,
   "id": "025fe01d",
   "metadata": {},
   "outputs": [
    {
     "name": "stdout",
     "output_type": "stream",
     "text": [
      "The predicted score of student when the study hour is 9.25 hours is: [94.18225483]\n"
     ]
    }
   ],
   "source": [
    "#Predicting with given value\n",
    "hours = [[9.25]]\n",
    "self_prediction = model.predict(hours)\n",
    "print(\"The predicted score of student when the study hour is 9.25 hours is:\",self_prediction)\n"
   ]
  },
  {
   "cell_type": "markdown",
   "id": "2a85ad3f",
   "metadata": {},
   "source": [
    "##### Evaluating Model Performance"
   ]
  },
  {
   "cell_type": "code",
   "execution_count": 24,
   "id": "6a163620",
   "metadata": {},
   "outputs": [
    {
     "name": "stdout",
     "output_type": "stream",
     "text": [
      "Root Mean Square Error:\n",
      " 6.184125293208643\n"
     ]
    }
   ],
   "source": [
    "#Calculating the Root Mean Squared Error\n",
    "from sklearn import metrics\n",
    "import math\n",
    "MSE= metrics.mean_squared_error(y_test,y_predicted)\n",
    "RMSE= math.sqrt(MSE)\n",
    "print(\"Root Mean Square Error:\\n\",RMSE)"
   ]
  },
  {
   "cell_type": "code",
   "execution_count": 25,
   "id": "37d50371",
   "metadata": {},
   "outputs": [
    {
     "name": "stdout",
     "output_type": "stream",
     "text": [
      "Mean Absolute Error:\n",
      " 5.590078701239448\n"
     ]
    }
   ],
   "source": [
    "#Calculating the Mean Absolute Error\n",
    "print('Mean Absolute Error:\\n',metrics.mean_absolute_error(y_test, y_predicted))"
   ]
  },
  {
   "cell_type": "code",
   "execution_count": 26,
   "id": "65b55398",
   "metadata": {},
   "outputs": [
    {
     "name": "stdout",
     "output_type": "stream",
     "text": [
      "Mean Squared Error:\n",
      " 38.243405642102886\n"
     ]
    }
   ],
   "source": [
    "#Calculating the Mean Squared Error\n",
    "print('Mean Squared Error:\\n',metrics.mean_squared_error(y_test, y_predicted))"
   ]
  },
  {
   "cell_type": "code",
   "execution_count": 27,
   "id": "6e1d1706",
   "metadata": {},
   "outputs": [
    {
     "name": "stdout",
     "output_type": "stream",
     "text": [
      "R^2:\n",
      " 0.9318830579679789\n"
     ]
    }
   ],
   "source": [
    "#Calculating R^2 value\n",
    "print('R^2:\\n',metrics.r2_score(y_test, y_predicted))"
   ]
  },
  {
   "cell_type": "markdown",
   "id": "4501bbfb",
   "metadata": {},
   "source": [
    "Value of R^2 signifies the fit of the model. Here, R^2= 0.9318830579679789 i.e. above is a good fit model."
   ]
  }
 ],
 "metadata": {
  "kernelspec": {
   "display_name": "Python 3 (ipykernel)",
   "language": "python",
   "name": "python3"
  },
  "language_info": {
   "codemirror_mode": {
    "name": "ipython",
    "version": 3
   },
   "file_extension": ".py",
   "mimetype": "text/x-python",
   "name": "python",
   "nbconvert_exporter": "python",
   "pygments_lexer": "ipython3",
   "version": "3.11.4"
  }
 },
 "nbformat": 4,
 "nbformat_minor": 5
}
